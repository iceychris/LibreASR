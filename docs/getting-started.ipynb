{
 "cells": [
  {
   "cell_type": "markdown",
   "id": "bacterial-possibility",
   "metadata": {},
   "source": [
    "# Getting Started"
   ]
  },
  {
   "cell_type": "markdown",
   "id": "massive-incentive",
   "metadata": {},
   "source": [
    "## Installation"
   ]
  },
  {
   "cell_type": "markdown",
   "id": "novel-passport",
   "metadata": {},
   "source": [
    "There are several ways to run LibreASR:\n",
    "\n",
    "* installing via PyPI: `pip3 install libreasr`\n",
    "\n",
    "* Using one of the available [Docker Images](https://hub.docker.com/r/iceychris/libreasr),\n",
    "i.e. `iceychris/libreasr:latest`"
   ]
  },
  {
   "cell_type": "markdown",
   "id": "alpha-compromise",
   "metadata": {},
   "source": [
    "## Usage"
   ]
  },
  {
   "cell_type": "markdown",
   "id": "advised-large",
   "metadata": {},
   "source": [
    "Once installed, using LibreASR is as simple as instantiating a LibreASR object."
   ]
  },
  {
   "cell_type": "code",
   "execution_count": 6,
   "id": "activated-caution",
   "metadata": {},
   "outputs": [
    {
     "ename": "ImportError",
     "evalue": "cannot import name 'LibreASR' from 'libreasr' (../libreasr/__init__.py)",
     "output_type": "error",
     "traceback": [
      "\u001b[0;31m---------------------------------------------------------------------------\u001b[0m",
      "\u001b[0;31mImportError\u001b[0m                               Traceback (most recent call last)",
      "\u001b[0;32m<ipython-input-6-016f259a9c13>\u001b[0m in \u001b[0;36m<module>\u001b[0;34m\u001b[0m\n\u001b[0;32m----> 1\u001b[0;31m \u001b[0;32mfrom\u001b[0m \u001b[0mlibreasr\u001b[0m \u001b[0;32mimport\u001b[0m \u001b[0mLibreASR\u001b[0m\u001b[0;34m\u001b[0m\u001b[0;34m\u001b[0m\u001b[0m\n\u001b[0m\u001b[1;32m      2\u001b[0m \u001b[0mhelp\u001b[0m\u001b[0;34m(\u001b[0m\u001b[0mLibreASR\u001b[0m\u001b[0;34m)\u001b[0m\u001b[0;34m\u001b[0m\u001b[0;34m\u001b[0m\u001b[0m\n",
      "\u001b[0;31mImportError\u001b[0m: cannot import name 'LibreASR' from 'libreasr' (../libreasr/__init__.py)"
     ]
    }
   ],
   "source": [
    "from libreasr import LibreASR\n",
    "help(LibreASR)"
   ]
  },
  {
   "cell_type": "markdown",
   "id": "gentle-metro",
   "metadata": {},
   "source": [
    "## Downloading Models"
   ]
  }
 ],
 "metadata": {
  "kernelspec": {
   "display_name": "Python 3",
   "language": "python",
   "name": "python3"
  },
  "language_info": {
   "codemirror_mode": {
    "name": "ipython",
    "version": 3
   },
   "file_extension": ".py",
   "mimetype": "text/x-python",
   "name": "python",
   "nbconvert_exporter": "python",
   "pygments_lexer": "ipython3",
   "version": "3.8.5"
  }
 },
 "nbformat": 4,
 "nbformat_minor": 5
}
